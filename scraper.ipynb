{
 "cells": [
  {
   "cell_type": "code",
   "execution_count": 51,
   "metadata": {},
   "outputs": [],
   "source": [
    "import requests\n",
    "\n",
    "link = \"https://www.writeexpress.com/second-chance.htm\""
   ]
  },
  {
   "cell_type": "code",
   "execution_count": 52,
   "metadata": {},
   "outputs": [],
   "source": [
    "raw_html = requests.get(link).text"
   ]
  },
  {
   "cell_type": "code",
   "execution_count": 53,
   "metadata": {},
   "outputs": [],
   "source": [
    "import re\n",
    "link_tokens = re.findall(\"href='.*?'\", raw_html)"
   ]
  },
  {
   "cell_type": "code",
   "execution_count": 54,
   "metadata": {},
   "outputs": [],
   "source": [
    "link_regex = r\"href='(.*?)'\"\n",
    "link_prefix = \"second\"\n",
    "letter_links = [re.match(link_regex, token).group(1) for token in link_tokens]\n",
    "letter_links = [link for link in letter_links if link.startswith(link_prefix)]"
   ]
  },
  {
   "cell_type": "code",
   "execution_count": 55,
   "metadata": {},
   "outputs": [],
   "source": [
    "base_link = \"https://www.writeexpress.com\"\n",
    "letter_regex = r\"<p>(.*?)</p>\"\n",
    "file_name = \"secondchance.txt\"\n",
    "\n",
    "fh = open(\"data/\" + file_name, \"w+\")\n",
    "\n",
    "for link in letter_links:\n",
    "    letter_page = \"{}/{}\".format(base_link, link)\n",
    "    page_html = requests.get(letter_page).text\n",
    "    letter_tokens = re.findall(\"<p>.*?</p>\", page_html)\n",
    "    letter_tokens = [lt for lt in letter_tokens if \"href\" not in lt]\n",
    "    letters = [re.match(letter_regex, lt).group(1) for lt in letter_tokens]\n",
    "    for letter in letters:\n",
    "        fh.write(letter + \"\\n\")\n",
    "fh.close()"
   ]
  }
 ],
 "metadata": {
  "kernelspec": {
   "display_name": "Python 3",
   "language": "python",
   "name": "python3"
  },
  "language_info": {
   "codemirror_mode": {
    "name": "ipython",
    "version": 3
   },
   "file_extension": ".py",
   "mimetype": "text/x-python",
   "name": "python",
   "nbconvert_exporter": "python",
   "pygments_lexer": "ipython3",
   "version": "3.6.5"
  }
 },
 "nbformat": 4,
 "nbformat_minor": 2
}
