{
 "cells": [
  {
   "cell_type": "code",
   "execution_count": 8,
   "metadata": {},
   "outputs": [],
   "source": [
    "import gpt_2_simple as gpt2\n",
    "import os\n",
    "import requests\n",
    "\n",
    "model_name = \"124M\"\n",
    "if not os.path.isdir(os.path.join(\"models\", model_name)):\n",
    "\tprint(f\"Downloading {model_name} model...\")\n",
    "\tgpt2.download_gpt2(model_name=model_name)   # model is saved into current directory under /models/124M/"
   ]
  },
  {
   "cell_type": "markdown",
   "metadata": {},
   "source": [
    "## This cell should work!"
   ]
  },
  {
   "cell_type": "code",
   "execution_count": 2,
   "metadata": {},
   "outputs": [
    {
     "name": "stdout",
     "output_type": "stream",
     "text": [
      "[[22. 28.]\n",
      " [49. 64.]]\n"
     ]
    }
   ],
   "source": [
    "import tensorflow as tf\n",
    "with tf.device('/gpu:0'):\n",
    "    a = tf.constant([1.0, 2.0, 3.0, 4.0, 5.0, 6.0], shape=[2, 3], name='a')\n",
    "    b = tf.constant([1.0, 2.0, 3.0, 4.0, 5.0, 6.0], shape=[3, 2], name='b')\n",
    "    c = tf.matmul(a, b)\n",
    "\n",
    "with tf.Session() as test_sess:\n",
    "    print (test_sess.run(c))"
   ]
  },
  {
   "cell_type": "code",
   "execution_count": 3,
   "metadata": {},
   "outputs": [
    {
     "data": {
      "text/plain": [
       "\u001b[0;31mSignature:\u001b[0m\n",
       "\u001b[0mgpt2\u001b[0m\u001b[0;34m.\u001b[0m\u001b[0mfinetune\u001b[0m\u001b[0;34m(\u001b[0m\u001b[0;34m\u001b[0m\n",
       "\u001b[0;34m\u001b[0m    \u001b[0msess\u001b[0m\u001b[0;34m,\u001b[0m\u001b[0;34m\u001b[0m\n",
       "\u001b[0;34m\u001b[0m    \u001b[0mdataset\u001b[0m\u001b[0;34m,\u001b[0m\u001b[0;34m\u001b[0m\n",
       "\u001b[0;34m\u001b[0m    \u001b[0msteps\u001b[0m\u001b[0;34m=\u001b[0m\u001b[0;34m-\u001b[0m\u001b[0;36m1\u001b[0m\u001b[0;34m,\u001b[0m\u001b[0;34m\u001b[0m\n",
       "\u001b[0;34m\u001b[0m    \u001b[0mmodel_name\u001b[0m\u001b[0;34m=\u001b[0m\u001b[0;34m'124M'\u001b[0m\u001b[0;34m,\u001b[0m\u001b[0;34m\u001b[0m\n",
       "\u001b[0;34m\u001b[0m    \u001b[0mmodel_dir\u001b[0m\u001b[0;34m=\u001b[0m\u001b[0;34m'models'\u001b[0m\u001b[0;34m,\u001b[0m\u001b[0;34m\u001b[0m\n",
       "\u001b[0;34m\u001b[0m    \u001b[0mcombine\u001b[0m\u001b[0;34m=\u001b[0m\u001b[0;36m50000\u001b[0m\u001b[0;34m,\u001b[0m\u001b[0;34m\u001b[0m\n",
       "\u001b[0;34m\u001b[0m    \u001b[0mbatch_size\u001b[0m\u001b[0;34m=\u001b[0m\u001b[0;36m1\u001b[0m\u001b[0;34m,\u001b[0m\u001b[0;34m\u001b[0m\n",
       "\u001b[0;34m\u001b[0m    \u001b[0mlearning_rate\u001b[0m\u001b[0;34m=\u001b[0m\u001b[0;36m0.0001\u001b[0m\u001b[0;34m,\u001b[0m\u001b[0;34m\u001b[0m\n",
       "\u001b[0;34m\u001b[0m    \u001b[0maccumulate_gradients\u001b[0m\u001b[0;34m=\u001b[0m\u001b[0;36m5\u001b[0m\u001b[0;34m,\u001b[0m\u001b[0;34m\u001b[0m\n",
       "\u001b[0;34m\u001b[0m    \u001b[0mrestore_from\u001b[0m\u001b[0;34m=\u001b[0m\u001b[0;34m'latest'\u001b[0m\u001b[0;34m,\u001b[0m\u001b[0;34m\u001b[0m\n",
       "\u001b[0;34m\u001b[0m    \u001b[0mrun_name\u001b[0m\u001b[0;34m=\u001b[0m\u001b[0;34m'run1'\u001b[0m\u001b[0;34m,\u001b[0m\u001b[0;34m\u001b[0m\n",
       "\u001b[0;34m\u001b[0m    \u001b[0mcheckpoint_dir\u001b[0m\u001b[0;34m=\u001b[0m\u001b[0;34m'checkpoint'\u001b[0m\u001b[0;34m,\u001b[0m\u001b[0;34m\u001b[0m\n",
       "\u001b[0;34m\u001b[0m    \u001b[0msample_every\u001b[0m\u001b[0;34m=\u001b[0m\u001b[0;36m100\u001b[0m\u001b[0;34m,\u001b[0m\u001b[0;34m\u001b[0m\n",
       "\u001b[0;34m\u001b[0m    \u001b[0msample_length\u001b[0m\u001b[0;34m=\u001b[0m\u001b[0;36m1023\u001b[0m\u001b[0;34m,\u001b[0m\u001b[0;34m\u001b[0m\n",
       "\u001b[0;34m\u001b[0m    \u001b[0msample_num\u001b[0m\u001b[0;34m=\u001b[0m\u001b[0;36m1\u001b[0m\u001b[0;34m,\u001b[0m\u001b[0;34m\u001b[0m\n",
       "\u001b[0;34m\u001b[0m    \u001b[0mmulti_gpu\u001b[0m\u001b[0;34m=\u001b[0m\u001b[0;32mFalse\u001b[0m\u001b[0;34m,\u001b[0m\u001b[0;34m\u001b[0m\n",
       "\u001b[0;34m\u001b[0m    \u001b[0msave_every\u001b[0m\u001b[0;34m=\u001b[0m\u001b[0;36m1000\u001b[0m\u001b[0;34m,\u001b[0m\u001b[0;34m\u001b[0m\n",
       "\u001b[0;34m\u001b[0m    \u001b[0mprint_every\u001b[0m\u001b[0;34m=\u001b[0m\u001b[0;36m1\u001b[0m\u001b[0;34m,\u001b[0m\u001b[0;34m\u001b[0m\n",
       "\u001b[0;34m\u001b[0m    \u001b[0mmax_checkpoints\u001b[0m\u001b[0;34m=\u001b[0m\u001b[0;36m1\u001b[0m\u001b[0;34m,\u001b[0m\u001b[0;34m\u001b[0m\n",
       "\u001b[0;34m\u001b[0m    \u001b[0muse_memory_saving_gradients\u001b[0m\u001b[0;34m=\u001b[0m\u001b[0;32mFalse\u001b[0m\u001b[0;34m,\u001b[0m\u001b[0;34m\u001b[0m\n",
       "\u001b[0;34m\u001b[0m    \u001b[0monly_train_transformer_layers\u001b[0m\u001b[0;34m=\u001b[0m\u001b[0;32mFalse\u001b[0m\u001b[0;34m,\u001b[0m\u001b[0;34m\u001b[0m\n",
       "\u001b[0;34m\u001b[0m    \u001b[0moptimizer\u001b[0m\u001b[0;34m=\u001b[0m\u001b[0;34m'adam'\u001b[0m\u001b[0;34m,\u001b[0m\u001b[0;34m\u001b[0m\n",
       "\u001b[0;34m\u001b[0m    \u001b[0moverwrite\u001b[0m\u001b[0;34m=\u001b[0m\u001b[0;32mFalse\u001b[0m\u001b[0;34m,\u001b[0m\u001b[0;34m\u001b[0m\n",
       "\u001b[0;34m\u001b[0m\u001b[0;34m)\u001b[0m\u001b[0;34m\u001b[0m\u001b[0;34m\u001b[0m\u001b[0m\n",
       "\u001b[0;31mDocstring:\u001b[0m\n",
       "Finetunes the model on the given dataset.\n",
       "\n",
       "Adapted from https://github.com/nshepperd/gpt-2/blob/finetuning/train.py.\n",
       "See that file for parameter definitions.\n",
       "\u001b[0;31mFile:\u001b[0m      ~/anaconda3/envs/tensorflow_p37/lib/python3.7/site-packages/gpt_2_simple/gpt_2.py\n",
       "\u001b[0;31mType:\u001b[0m      function\n"
      ]
     },
     "metadata": {},
     "output_type": "display_data"
    }
   ],
   "source": [
    "gpt2.finetune?"
   ]
  },
  {
   "cell_type": "code",
   "execution_count": 10,
   "metadata": {},
   "outputs": [
    {
     "name": "stdout",
     "output_type": "stream",
     "text": [
      "Loading checkpoint checkpoint/run1/model-2\n",
      "INFO:tensorflow:Restoring parameters from checkpoint/run1/model-2\n"
     ]
    },
    {
     "name": "stderr",
     "output_type": "stream",
     "text": [
      "  0%|          | 0/1 [00:00<?, ?it/s]"
     ]
    },
    {
     "name": "stdout",
     "output_type": "stream",
     "text": [
      "Loading dataset...\n"
     ]
    },
    {
     "name": "stderr",
     "output_type": "stream",
     "text": [
      "100%|██████████| 1/1 [00:02<00:00,  2.59s/it]\n"
     ]
    },
    {
     "name": "stdout",
     "output_type": "stream",
     "text": [
      "dataset has 474767 tokens\n",
      "Training...\n",
      "[10 | 42.40] loss=1.83 avg=1.83\n",
      "Saving checkpoint/run1/model-10\n",
      "[20 | 87.91] loss=1.73 avg=1.78\n",
      "Saving checkpoint/run1/model-20\n",
      "======== SAMPLE 1 ========\n",
      "\n",
      "\n",
      "~Wisdom~}It is the way in which you live your life that is most meaningful. When we are together to work hard, feel happiness, and enjoy our time, we never think we will ever break the bonds we have found. You are the source of all the happiness in the world. You are the one we know and deserve. When I talk to you, the thought that I have is always a part of me. You inspire me to find happiness. You are our love, our soulmate, and our future. There is no point in losing hope in this relationship. The joy of our relationship is a breath of fresh air. All we have to find is some love and love. Our lives are in harmony, and in the end, our love has the power to protect us from harm.~Wisdom~}You are the greatest and the most unique thing that has happened to me since I was a young boy. Your strength and strength of will are so great~^As far as I know, I am a man of very little physical appearance. I have a very low breath and a very thin skin~^There are many things that bother me. I feel as though I am a stranger because I have made such a bad choice with my life. My life has been in such chaos that I lost my love, lost my soulmate, lost my dreams, and I am regretting my choices. I have lost everything with you, lost all my family, lost my love, and lost my true happiness. These are the things that have hurt me and hurt me now. I feel that in the future, I will have the same thing that you feel in the present. I am happy with the future as I am now.~Wisdom~}It is the way in which you live your life that is most meaningful. When we are together to work hard, feel happiness, and enjoy our time, we never think we will ever break the bonds we have found. You are the source of all the happiness in the world. You are the one we know and deserve. When I talk to you, the thought that I have is always a part of me. You inspire me to find happiness. You are our love, our soulmate, and our future. There is no point in losing hope in this relationship. The joy of our relationship is a breath of fresh air. All we have to find is some love and love. Our lives are in harmony, and in the end, our love has the power to protect us from harm.~Wisdom~}As far as I know, I am a man of very little physical appearance. I have a very low breath and a very thin skin~^There are many things that bother me. I feel as though I am a stranger because I have made such a bad choice with my life. My life has been in such chaos that I lost my love, lost my soulmate, lost my dreams, and I is regretting my choices. I have lost everything with you, lost all my family, lost my love, and lost my true happiness. These are the things that have hurt me and hurt me now. I feel that in the future, I will have the same thing that you feel in the present. I am happy with the future as I am now.~Wisdom~}It is the way in which you live your life that is most meaningful. When we are together to work hard, feel happiness, and enjoy our time, we never think we will ever break the bonds we have found. You are the source of all the happiness in the world. You are the one we know and deserve. When I talk to you, the thought that I have is always a part of me. You inspire me to find happiness. You are our love, our soulmate, and our future. There is no point in losing hope in this relationship. The joy of our relationship is a breath of fresh air. All we have to find is some love and love. Our lives are in harmony, and in the end, our love has the power to protect us from harm.~Wisdom~}There are many things that bother me. I feel as though I am a stranger because I have made such a bad choice with my life. My life has been in such chaos that I lost my love, lost my soulmate, lost my dreams, and I is regretting my choices. I have lost everything with you, lost all my family, lost my love, and lost my true happiness. These are the things that have hurt me and hurt me now. I feel as though I am a stranger because I have made such a bad choice with my life. My life has been in such chaos that I lost my love, lost my soulmate, lost my dreams, and I is regretting my choices. I have lost everything with you, lost all my family, lost my love, and lost my true happiness; these are the things that have hurt me and hurt me now\n",
      "\n",
      "[30 | 151.24] loss=1.62 avg=1.73\n",
      "Saving checkpoint/run1/model-30\n",
      "WARNING:tensorflow:From /home/ubuntu/anaconda3/envs/tensorflow_p37/lib/python3.7/site-packages/tensorflow_core/python/training/saver.py:963: remove_checkpoint (from tensorflow.python.training.checkpoint_management) is deprecated and will be removed in a future version.\n",
      "Instructions for updating:\n",
      "Use standard file APIs to delete files with this prefix.\n",
      "[40 | 196.48] loss=1.66 avg=1.71\n",
      "Saving checkpoint/run1/model-40\n",
      "======== SAMPLE 1 ========\n",
      " meant for it: we have had some fun with you since our beginning. I have tried to keep my distance, although it's hard for me to do that, because there's a limit to how many good memories you have left in me. I've loved you, and you've given me hope and encouragement but not enough of that in your life before. I'm sorry for that, though, and have made your life worth more than it was or never had before. I am truly sorry for my love for you because I believe that there are no regrets. You are real and not just a myth which is true and true in the eyes of the world. You were the cause of everything. I am truly sorry for my love for you, and I owe you a debt of gratitude for what you have given me, and I want to forgive you. I do not understand why some people are so strong on the idea of doing what you do, and you don't know how it feels to be loved for what you were. You could have done just as much better if your intentions were the same: keep it real, and not hold onto what you felt was unjustified affection. You deserve to be loved as much as you love is loved, and I owe you the entire world because of the amount of you and the depth of your love. I am so sorry for not understanding your feelings, because you should have thought about how to take it all in. You had to realize what you felt, and you are truly the reason I am here. I will be forever in your heart. Let me know if you need any help or anything else. I am there for you, always, and always; I will always have an answer to your prayers. Thank you. I love you and you are special in my eyes. I'm in debt for everything, and I'll have a very special man to say to me. Please pray for me. I will miss you so much. Thanks for everything and for praying for me. I know you are a father, but what are you? You need to know what you must do to give me your love for your son and daughter. You do it just for me. It's the hardest job I could ask for. I can't wait for you to be proud about that dream job that you want to take me for. Thanks!<|endoftext|>\n",
      "<|startoftext|>~`sorry~^~}I'm always in need of someone to put your needs above your own. It's simple, it's real, and I'm sorry for that. I am truly sorry for my love and devotion with you.<|endoftext|>\n",
      "<|startoftext|>~`sorry~^~}You need to know what you have to do to give the rest of us your love, and I'll miss you.<|endoftext|>\n",
      "<|startoftext|>~`lostlove~^your-love fall~}I'm trying to get a new job and I don't really know how to be my own woman. You are the most important girlfriend you've ever been with ever.<|endoftext|>\n",
      "<|startoftext|>~`confession~^make~}The most wonderful thing about you is that you were meant for it: we have had some fun with you since our beginning. I have tried to keep my distance, although it's hard for me to do that, because there's a limit to how many good memories you have left in me. I've loved you, and you've given me hope and encouragement but not enough of that in your life before. I am truly sorry for my love for you, and I owe you a debt of gratitude for what you have given me, and I want to forgive you. I do not understand why some people are so strong on the idea of doing what you do, and you don't know how it feels to be loved for what you were. You could have done just as much better if your intentions were the same: keep it real, and not hold onto what you felt was unjustified affection. You deserve to be loved as much as you love is loved, and I owe you the entire world because of the amount of you and the depth of your love. I am so sorry for my love for you, and I owe you the whole world because of the amount of you and the depth of your love. I am so sorry for my love for you, and I owe you the whole world because of the amount of you and the depth of your love. I am so sorry for my love for you, and I owe you the whole world because of the amount of you and the depth of your love. I am so sorry for my love for you, and I owe you the whole world because of the amount of you and the depth of your love. I am so sorry for my love for you, and I owe you the whole world because of the\n",
      "\n",
      "[50 | 258.21] loss=1.53 avg=1.67\n",
      "Saving checkpoint/run1/model-50\n",
      "[60 | 303.45] loss=1.46 avg=1.64\n",
      "Saving checkpoint/run1/model-60\n",
      "======== SAMPLE 1 ========\n",
      "thinking or at least very interested in things,\" he said. \"I just want to say that I'm glad that you've come over to my house, and that I can make my way there, too. When I was in a bad mood, I would go to your house. You would always take my hand and whisper in it your words. Now, too, it feels real, but I still feel the magic that comes from feeling the way I do. I know that you understand and like me more by sharing my troubles with you. I am the way you were, and I am coming back now.\"\n",
      "\n",
      "\"But,\" he continued, \"your problems will not come back to haunt you forever because we've known each other so long, and you're our friend. We are the only bond I cherish about our lives. I want to keep it going--I want my life back to the way it was.<|endoftext|>\n",
      "\n",
      "<|startoftext|>~`love~^~}I feel that you are a perfect person for me. You are the type of person that makes me smile or laugh as I readjust my life. I really can't give up. You are our best friend, and we have grown as one, and we are falling in love. Even the pain we feel is what makes us happy. Even when you're with me, you're still in my heart.<|endoftext|>\n",
      "\n",
      "<|startoftext|>~`love~^~}I feel that you are a perfect person for me. You are the type of person that makes me smile or laugh as I readjust my life. I really can't give up. You are our best friend, and we have grown as one, and we are falling in love. Even when you're with me, you're still in my heart.<|endoftext|>\n",
      "\n",
      "<|startoftext|>~`sorry~^~}I don't know what to say to my daughter. If there's anything in this world I need to change, try and find another. I am sorry. I'm hurting badly.<|endoftext|>\n",
      "\n",
      "<|startoftext|>~`love~^troubles~}Well, it was a little rough; the time I have spent with you has been really difficult. You've told me that you will try things and please me, but at times you've hurt me, too. I know that I've hurt you and that in a way, I have hurt you. My heart is trying to find purpose and will take my life, and I feel that we'll need to be apart; at times I feel that you're telling me we're apart. I was so scared!<|endoftext|>\n",
      "\n",
      "<|startoftext|>~`love~^happiness my-lives~}Well, it was a little rough; the time I have spent with you has been really difficult. You've told me that you will try things and please me, but at times you've hurt me, too. I know that I've hurt you and that in a way, I have hurt you. My heart is trying to find purpose and will take my life, and I feel that we'll need to be apart; at times I feel that you're telling me we're apart. I was so scared!<|endoftext|>\n",
      "\n",
      "<|startoftext|>~`love~^day~}Let's get to work and get that hot air out of the way.<|endoftext|>\n",
      "\n",
      "<|startoftext|>~`sorry~^~}Well, it was a little rough; the time I have spent with you has been really difficult. You've told me that you will try things and please me, but at times you've hurt me, too. I know that I've hurt you and that in a way, I have hurt you. My heart is trying to find purpose and will take my life, and I feel that we'll need to be apart; at times I feel that you're telling me we're apart. I was so scared!<|endoftext|>\n",
      "\n",
      "<|startoftext|>~`love~^my-heart a-way-we-find a-way~}Let's get to work and get that hot air out of the way.<|endoftext|>\n",
      "\n",
      "<|startoftext|>~`sorry~^my-lives~}You are the type of person that makes me smile or laugh as I readjust my life. I really can't give up. You are our best friend, and we have grown as one, and we are falling in love. Even when you're with me, you're still in my heart.<|endoftext|>\n",
      "\n",
      "<|startoftext|>~`love~^a\n",
      "\n",
      "[70 | 365.37] loss=1.57 avg=1.63\n",
      "Saving checkpoint/run1/model-70\n",
      "[80 | 410.73] loss=1.52 avg=1.61\n",
      "Saving checkpoint/run1/model-80\n",
      "======== SAMPLE 1 ========\n",
      ".<>\n",
      "<|startoftext|>~`lostlove~^the-moment~}I am writing this letter to remind you that I'm writing this letter right now for you, not for anything but the truth. I'll be writing it soon enough, so call me back when I'm back home. I really appreciate getting to know you. You gave me all the joy I could ask for and more. If only things were as they should. I hope everything will be the same. I'll be yours for life. You made my day brighter and I will be yours to shine the light that can make things better. I love you dearly.<|endoftext|>\n",
      "<|startoftext|>~`sorry~^day the-doubt~}You can have faith that God will love you in the future. He will always know your heart is in the cross of the true love between us, and He will give you the chance to be your man in heaven. You would have no choice but to be the one that God expects from you, no matter what the obstacles are, no matter where you are. I wish you the very best. I promise that I'll always be there for you, too, no matter what your situation is. Even if you can't give in, I'll still be there to support you, regardless of where you go next. I love you and always will.<|endoftext|>\n",
      "<|startoftext|>~`secondchance~^truly-love~}I want you to know that I love you. I miss the way you looked at me and gave my face the same affection I would give to someone else. I miss the way you talked to me and didn't say, `I love you so much you will never leave me!' You were always the one that I looked forward to the most. If my partner could ever make it back home to me, it would depend on me.<|endoftext|>\n",
      "<|startoftext|>~`sorry~^~}You can have faith that God will love you in the future. He will always know your heart is in the cross of the true love between us, and He will give you the chance to be your man in heaven. You would have no choice but to be the one that God expects from you, no matter what the obstacles are, no matter where you are. I wish you the very best. I promise that I'll always be there for you, too, no matter what your situation is. Even if you can't give in, I'll still be there to support you, regardless of where you go next. I love you and always will.<|endoftext|>\n",
      "<|startoftext|>~`love~^know love~}The way you look at me is like that of a young woman at a time or two in our life. Like when I was in high school, but only after I'd grown close to you. I knew you appreciated that smile, and all the attention. You never knew that I was so beautiful. You never knew that you were the love of my life. Every time you came home from the store, I knew you would be there with me whenever I needed a hug from you. That day you gave me a kiss, and then I looked into your eyes and you said, `I love you' and it just fell right over me. I want you to know that I truly think of you every day. Ever since I met you, I've been loving you and I've kept falling in love because of it. I am so proud to have spent my life with someone so passionate and so caring. I am so proud to be in someone else's debt and to be a part of someone's destiny.<|endoftext|>\n",
      "<|startoftext|>~`lostlove~^love~}I am writing this letter to remind you that I'm writing this letter to tell you, not for anything but the truth. I'll be writing it soon enough, so call me back when I'm back home. I really appreciate getting to know you. You gave me all the joy I could ask for and more. If only things were as they should. I hope everything will be the same. I hope you made me feel loved. I would be yours forever. You made my day brighter and I will be yours to shine the light that can make things better. I love you dearly.<|endoftext|>\n",
      "<|startoftext|>~`lostlove~^what-life~}I love you so much, Baby, and I am here to help and comfort you and show that love doesn't matter anymore. I think about you every day. I can do no more! That's really, really sweet of you to ask me why I'm doing this to you. It's only been a few days and I still see the pain you\n",
      "\n",
      "[90 | 472.62] loss=1.33 avg=1.58\n",
      "Saving checkpoint/run1/model-90\n",
      "[100 | 517.89] loss=1.47 avg=1.57\n",
      "Saving checkpoint/run1/model-100\n",
      "======== SAMPLE 1 ========\n",
      ", because my love for you is only greater. All that is required are the same things that motivate me to love you more. That's why I'm very happy. I love you as much as I would any other woman I know, and I love you as much as you love me. I don't want to be alone. No matter what, I want to make this relationship last because I am so very much in love.<|endoftext|>\n",
      "<|startoftext|>~`secondchance~^~}I want you to know that my love for you is only greater. All that is required are the same things that motivate me to love you more. That's why I'm very happy. I love you as much as I would any other woman I know, and I love you as much as I like you. I don't want to be alone. No matter what, I want to make this relationship last because I am so very much in love.<|endoftext|>\n",
      "<|startoftext|>~`secondchance~^my-love~}I want you to know that my love for you is only greater. All that is required are the same things that motivate me to love you more. That's why I'm very happy. I love you as much as I would any other woman I know, and I love you as much as I like you. I don't want to be alone. No matter what, I want to make this relationship last because I am so very much in love.<|endoftext|>\n",
      "<|startoftext|>~`missing~^~}There will never be a day I won't be able to tell you how much I miss your love and to know how much you mean to me for the rest of my life. Please give me another chance, and I will love you the rest of my days.<|endoftext|>\n",
      "<|startoftext|>~`confession~^~}I love you to the absolute and, to be honest with you, I miss you more than words can express. I love you to the point of being the best friend that we have right now. I cherish the love my heart has for you; it grows and grows each and every day. Your warmth, your love, your love, has been an inspiration to me all my life.<|endoftext|>\n",
      "<|startoftext|>~`confession~^your-love~}I love you to the absolute and, to be honest with you, I miss you more than words can express. I love you to the point of being the best friend that we have right now. I cherish the love my heart has for you; it grows and grows each and every day. Your warmth, your love, your love, has been an inspiration to me all my life.<|endoftext|>\n",
      "<|startoftext|>~`secondchance~^my-soul love~}I want you to know that my love for you is only greater. All that is required are the same things that motivate me to love you more. That's why I'm very happy. I love you as much as I would any other woman I know, and I love you as much as I like you. I don't want to be alone. No matter what, I want to make this relationship last because I am so very much in love.<|endoftext|>\n",
      "<|startoftext|>~`love~^~}I always wonder what it is to be loved by so many different people. Do you care in deep pain? You know what I think? You get sad, or sometimes you do it because you fear being lost somewhere or in a place you didn't want to be. What do you want when you get lost in your own life? Where and how? What are you afraid of dying in? What is that place away from you that most of us don't? I have told you before that you are afraid of losing your love and that the love in you scares me. If I really had it all back again, I would be falling in love with my best friend. I love you, but I love you to an incredible extent and not to a point. I love life. I love the way you are and the depth of your love. But there is a part of me that wants you to leave and just think about it for a little longer--that feels good.<|endoftext|>\n",
      "<|startoftext|>~`love~^~}I never thought that a man would love me more than the love of a wife and an ailing child--more especially if it's the reason you think he is always on the brink of tears. You don't know me, but you seem to have done your own thing, you know that I am yours for life and all who love you. I loved the way you\n",
      "\n",
      "Saving checkpoint/run1/model-102\n"
     ]
    }
   ],
   "source": [
    "tf.reset_default_graph()\n",
    "\n",
    "sess = gpt2.start_tf_sess()\n",
    "gpt2.finetune(sess,\n",
    "              'data/csv_encoded.txt',\n",
    "              model_name=model_name,\n",
    "              restore_from='latest',\n",
    "       t       run_name='run1',\n",
    "              print_every=10,\n",
    "              sample_every=20,\n",
    "              save_every=10,\n",
    "              max_checkpoints=2,\n",
    "              steps=100)   # steps is max number of training steps"
   ]
  },
  {
   "cell_type": "code",
   "execution_count": null,
   "metadata": {},
   "outputs": [
    {
     "name": "stdout",
     "output_type": "stream",
     "text": [
      "Loading checkpoint checkpoint/run1/model-102\n",
      "INFO:tensorflow:Restoring parameters from checkpoint/run1/model-102\n"
     ]
    },
    {
     "name": "stderr",
     "output_type": "stream",
     "text": [
      "  0%|          | 0/1 [00:00<?, ?it/s]"
     ]
    },
    {
     "name": "stdout",
     "output_type": "stream",
     "text": [
      "Loading dataset...\n"
     ]
    },
    {
     "name": "stderr",
     "output_type": "stream",
     "text": [
      "100%|██████████| 1/1 [00:02<00:00,  2.51s/it]\n"
     ]
    },
    {
     "name": "stdout",
     "output_type": "stream",
     "text": [
      "dataset has 474767 tokens\n",
      "Training...\n",
      "[110 | 42.18] loss=1.39 avg=1.39\n",
      "Saving checkpoint/run1/model-110\n"
     ]
    }
   ],
   "source": [
    "tf.reset_default_graph()\n",
    "\n",
    "sess = gpt2.start_tf_sess()\n",
    "\n",
    "gpt2.finetune(sess,\n",
    "              'csv_encoded.txt',\n",
    "              model_name=model_name,\n",
    "              restore_from='latest',\n",
    "              run_name='run1',\n",
    "              print_every=10,\n",
    "              sample_every=100,\n",
    "              save_every=10,\n",
    "              max_checkpoints=2,\n",
    "              steps=900)   # steps is max number of training steps"
   ]
  },
  {
   "cell_type": "code",
   "execution_count": 11,
   "metadata": {},
   "outputs": [
    {
     "name": "stdout",
     "output_type": "stream",
     "text": [
      "You can find this entire piece of wicker paper on a piece of paper that I'll never find again. It's kept in my closet and I'm not sure if it's in my desk drawer or just in my hand. It comes in a lot of different colors, so I decided it was probably for an inspiration. I'm not sure if it's in your desk drawer or just in my hand.<|endoftext|>\n",
      "<|startoftext|>~`missing~^~}I'm finding it hard to face my feelings of wanting to be with you. I know that I'm doing everything I can to be with you. I don't want to be alone! I just want you to know that I am here with you all the time and I want you here too. I hope you will find happiness with me. I love you!<|endoftext|>\n",
      "<|startoftext|>~`missing~^~}Thank you for being there for me, for loving me, for being with you, for loving me, for loving me. I am so grateful for you for everything. I love you!<|endoftext|>\n",
      "<|startoftext|>~`love~^fall~}I love you, and I love your love. I know I'm not perfect, but I know that I'm showing you how much I love you. You're my biggest angel, my most beautiful soul, my most wonderful lover, and my most wonderful husband. I love you more than I can ever express. I love you more than I can ever express my love for you. You had me fall in love with so early on, and I knew that I would fall in love with you sometime. I was so lonely, but I was so happy. I wanted to see you again soon, and I have to say that I am very grateful for everything that you have done for me. I love you and all that is inside of you. I love you. I love you.<|endoftext|>\n",
      "<|startoftext|>~`love~^~}I love you, and I love your love. I know I'm not perfect, but I know that I'm showing you how much I love you. You're my biggest angel, my most beautiful soul, my most beautiful lover, and my most wonderful husband. I love you more than I can ever express. I love you more than I can ever express my love for you. You had me fall in love with so early on, and I knew that I would fall in love with you sometime. I was so lonely, but I was so happy. I wanted to see you again soon, and I have to say that I am very grateful for everything that you have done for me. I love you and all that is inside of you. I love you. I love you. I love you.<|endoftext|>\n",
      "<|startoftext|>~`love~^voice~}I love you, and I love your love. I know I'm not perfect, but I know that I'm showing you how much I love you. You're my biggest angel, my most beautiful soul, my most beautiful lover, and my most wonderful husband. I love you more than I can ever express. I love you more than I can ever express my love for you. You had me fall in love with so early on, and I knew that I would fall in love with you sometime. I was so lonely, but I was so happy. I wanted to see you again soon, and I have to say that I am very grateful for everything that you have done for me. I love you and all that is inside of you. I love you. I love you. I love you.<|endoftext|>\n",
      "<|startoftext|>~`love~^~}I have no regrets about wanting you to be my wife. Being with you is the most wonderful thing that has ever happened to me, and I am very proud of that. Not only do I love you, but I feel that we can grow even closer together. I love you now and forever.<|endoftext|>\n",
      "<|startoftext|>~`love~^~}I have no regrets about wanting you to be my wife. Being with you is the most wonderful thing that has ever happened to me, and I am very proud of that. Not only do I love you, but I feel that we can grow even closer together. I love you now and forever.<|endoftext|>\n",
      "<|startoftext|>~`love~^~}I love you, and I love your love. I know I'm not perfect, but I know that I'm showing you how much I love you. You're my biggest angel, my most beautiful soul, my most beautiful lover, and my most wonderful husband. I love you\n"
     ]
    }
   ],
   "source": [
    "gpt2.generate(sess)"
   ]
  },
  {
   "cell_type": "code",
   "execution_count": null,
   "metadata": {},
   "outputs": [],
   "source": [
    "import tensorflow as tf\n",
    "print(\n",
    "    [\n",
    "        tf,\n",
    "        tf.Session(config=tf.ConfigProto(log_device_placement=True)),\n",
    "        #gpt2.tf.device(),\n",
    "        gpt2.device_lib.list_local_devices(),\n",
    "        dir(gpt2.device_lib.list_local_devices),\n",
    "        dir(gpt2.tf.device)\n",
    "    ]\n",
    ")\n"
   ]
  }
 ],
 "metadata": {
  "kernelspec": {
   "display_name": "Environment (conda_tensorflow_p37)",
   "language": "python",
   "name": "conda_tensorflow_p37"
  },
  "language_info": {
   "codemirror_mode": {
    "name": "ipython",
    "version": 3
   },
   "file_extension": ".py",
   "mimetype": "text/x-python",
   "name": "python",
   "nbconvert_exporter": "python",
   "pygments_lexer": "ipython3",
   "version": "3.7.4"
  }
 },
 "nbformat": 4,
 "nbformat_minor": 2
}
