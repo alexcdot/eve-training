{
 "cells": [
  {
   "cell_type": "code",
   "execution_count": 1,
   "metadata": {},
   "outputs": [],
   "source": [
    "import csv\n",
    "import os"
   ]
  },
  {
   "cell_type": "code",
   "execution_count": 14,
   "metadata": {},
   "outputs": [],
   "source": [
    "writer = csv.writer(open('data/love_by_category.csv', 'w+', encoding='utf-8'))\n",
    "\n",
    "writer.writerow(['category', 'body'])\n",
    "for filename in os.listdir('data'):\n",
    "    if '.txt' not in filename or 'all.txt' == filename:\n",
    "        continue\n",
    "\n",
    "    with open(filename) as file:\n",
    "        category = filename[:-4].replace('\\x00', '')\n",
    "        for line in file:\n",
    "            line = line.strip().replace('\\x00', '')\n",
    "            if len(line) == 0:\n",
    "                continue\n",
    "            writer.writerow([category, line])"
   ]
  },
  {
   "cell_type": "code",
   "execution_count": null,
   "metadata": {},
   "outputs": [],
   "source": []
  }
 ],
 "metadata": {
  "kernelspec": {
   "display_name": "Environment (conda_tensorflow_p36)",
   "language": "python",
   "name": "conda_tensorflow_p36"
  },
  "language_info": {
   "codemirror_mode": {
    "name": "ipython",
    "version": 3
   },
   "file_extension": ".py",
   "mimetype": "text/x-python",
   "name": "python",
   "nbconvert_exporter": "python",
   "pygments_lexer": "ipython3",
   "version": "3.6.5"
  }
 },
 "nbformat": 4,
 "nbformat_minor": 2
}
